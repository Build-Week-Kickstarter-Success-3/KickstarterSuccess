{
  "nbformat": 4,
  "nbformat_minor": 0,
  "metadata": {
    "colab": {
      "name": "kickStarterModeling.ipynb",
      "provenance": [],
      "collapsed_sections": [],
      "machine_shape": "hm"
    },
    "kernelspec": {
      "name": "python3",
      "display_name": "Python 3"
    },
    "language_info": {
      "name": "python"
    }
  },
  "cells": [
    {
      "cell_type": "code",
      "metadata": {
        "id": "kLx3nZR7LMI6"
      },
      "source": [
        "!pip install category_encoders==2.*\n",
        "!pip install pdpbox\n",
        "!pip install shap"
      ],
      "execution_count": null,
      "outputs": []
    },
    {
      "cell_type": "code",
      "metadata": {
        "id": "deeWOs9dLUnW"
      },
      "source": [
        "import pandas as pd\n",
        "import numpy as np\n",
        "import matplotlib.pyplot as plt\n",
        "import seaborn as sns \n",
        "import matplotlib.pyplot as plt \n",
        "from sklearn.ensemble import RandomForestClassifier\n",
        "from sklearn.metrics import accuracy_score\n",
        "from sklearn.metrics import plot_roc_curve\n",
        "from sklearn.metrics import roc_curve\n",
        "from sklearn.metrics import plot_confusion_matrix\n",
        "from sklearn.metrics import classification_report\n",
        "from sklearn.model_selection import train_test_split\n",
        "from sklearn.pipeline import make_pipeline\n",
        "from category_encoders import OrdinalEncoder\n",
        "from sklearn.impute import SimpleImputer\n",
        "from sklearn.preprocessing import StandardScaler\n",
        "from xgboost import XGBClassifier\n",
        "from sklearn.model_selection import cross_val_score, validation_curve \n",
        "from sklearn.model_selection import RandomizedSearchCV \n",
        "import pickle"
      ],
      "execution_count": 16,
      "outputs": []
    },
    {
      "cell_type": "code",
      "metadata": {
        "id": "jPKKLCp5vXTs"
      },
      "source": [
        "#close previous plots if needed\n",
        "%matplotlib inline\n",
        "plt.close('all')"
      ],
      "execution_count": null,
      "outputs": []
    },
    {
      "cell_type": "code",
      "metadata": {
        "colab": {
          "base_uri": "https://localhost:8080/"
        },
        "id": "YTpHCdKzLaFt",
        "outputId": "7a9576ca-c36e-491a-8ad0-711031f7237a"
      },
      "source": [
        "#mount Google drive\n",
        "from google.colab import drive\n",
        "drive.mount('/content/drive/')"
      ],
      "execution_count": 17,
      "outputs": [
        {
          "output_type": "stream",
          "name": "stdout",
          "text": [
            "Drive already mounted at /content/drive/; to attempt to forcibly remount, call drive.mount(\"/content/drive/\", force_remount=True).\n"
          ]
        }
      ]
    },
    {
      "cell_type": "code",
      "metadata": {
        "colab": {
          "base_uri": "https://localhost:8080/"
        },
        "id": "mzEbFfTILaqk",
        "outputId": "ea1520e8-1825-4611-e7a8-89d499c37000"
      },
      "source": [
        "#load preprossed file\n",
        "%cd /content/drive/My Drive/kickStarter\n",
        "df = pd.read_csv('cleandf.csv')\n",
        "df.set_index('id',inplace=True)\n",
        "df.info()"
      ],
      "execution_count": 18,
      "outputs": [
        {
          "output_type": "stream",
          "name": "stdout",
          "text": [
            "/content/drive/My Drive/kickStarter\n",
            "<class 'pandas.core.frame.DataFrame'>\n",
            "Int64Index: 180679 entries, 1124922936 to 1126079486\n",
            "Data columns (total 9 columns):\n",
            " #   Column              Non-Null Count   Dtype  \n",
            "---  ------              --------------   -----  \n",
            " 0   blurb               180677 non-null  object \n",
            " 1   country             180679 non-null  object \n",
            " 2   slug                180679 non-null  object \n",
            " 3   staff_pick          180679 non-null  bool   \n",
            " 4   state               180679 non-null  int64  \n",
            " 5   campaignPeriod      180679 non-null  int64  \n",
            " 6   goalUsd             180679 non-null  float64\n",
            " 7   sub_category_name   180679 non-null  object \n",
            " 8   main_category_name  174232 non-null  object \n",
            "dtypes: bool(1), float64(1), int64(2), object(5)\n",
            "memory usage: 12.6+ MB\n"
          ]
        }
      ]
    },
    {
      "cell_type": "code",
      "metadata": {
        "colab": {
          "base_uri": "https://localhost:8080/",
          "height": 269
        },
        "id": "wrBAQtcf44cR",
        "outputId": "9bab56c3-da74-44d2-edcd-4900f3d8910d"
      },
      "source": [
        "df.head()"
      ],
      "execution_count": 19,
      "outputs": [
        {
          "output_type": "execute_result",
          "data": {
            "text/html": [
              "<div>\n",
              "<style scoped>\n",
              "    .dataframe tbody tr th:only-of-type {\n",
              "        vertical-align: middle;\n",
              "    }\n",
              "\n",
              "    .dataframe tbody tr th {\n",
              "        vertical-align: top;\n",
              "    }\n",
              "\n",
              "    .dataframe thead th {\n",
              "        text-align: right;\n",
              "    }\n",
              "</style>\n",
              "<table border=\"1\" class=\"dataframe\">\n",
              "  <thead>\n",
              "    <tr style=\"text-align: right;\">\n",
              "      <th></th>\n",
              "      <th>blurb</th>\n",
              "      <th>country</th>\n",
              "      <th>slug</th>\n",
              "      <th>staff_pick</th>\n",
              "      <th>state</th>\n",
              "      <th>campaignPeriod</th>\n",
              "      <th>goalUsd</th>\n",
              "      <th>sub_category_name</th>\n",
              "      <th>main_category_name</th>\n",
              "    </tr>\n",
              "    <tr>\n",
              "      <th>id</th>\n",
              "      <th></th>\n",
              "      <th></th>\n",
              "      <th></th>\n",
              "      <th></th>\n",
              "      <th></th>\n",
              "      <th></th>\n",
              "      <th></th>\n",
              "      <th></th>\n",
              "      <th></th>\n",
              "    </tr>\n",
              "  </thead>\n",
              "  <tbody>\n",
              "    <tr>\n",
              "      <th>1124922936</th>\n",
              "      <td>Bringing deliciously fresh snacking to every g...</td>\n",
              "      <td>US</td>\n",
              "      <td>palmetto-pork-skins</td>\n",
              "      <td>False</td>\n",
              "      <td>0</td>\n",
              "      <td>30</td>\n",
              "      <td>25000.000</td>\n",
              "      <td>Food Trucks</td>\n",
              "      <td>Food</td>\n",
              "    </tr>\n",
              "    <tr>\n",
              "      <th>1479488174</th>\n",
              "      <td>Warm hands and full access to your camera dial...</td>\n",
              "      <td>NO</td>\n",
              "      <td>photography-gloves-extend-your-session-in-style</td>\n",
              "      <td>False</td>\n",
              "      <td>1</td>\n",
              "      <td>32</td>\n",
              "      <td>13905.834</td>\n",
              "      <td>Camera Equipment</td>\n",
              "      <td>Technology</td>\n",
              "    </tr>\n",
              "    <tr>\n",
              "      <th>2077771673</th>\n",
              "      <td>Enamel pins dedicated to my Grandpa and his di...</td>\n",
              "      <td>US</td>\n",
              "      <td>eat-shit-a-memorial-pin-campaign</td>\n",
              "      <td>False</td>\n",
              "      <td>1</td>\n",
              "      <td>31</td>\n",
              "      <td>250.000</td>\n",
              "      <td>Accessories</td>\n",
              "      <td>Fashion</td>\n",
              "    </tr>\n",
              "    <tr>\n",
              "      <th>2008689997</th>\n",
              "      <td>To Rise In Challenge is a brand, lifestyle, me...</td>\n",
              "      <td>US</td>\n",
              "      <td>tric-clothing-co</td>\n",
              "      <td>False</td>\n",
              "      <td>1</td>\n",
              "      <td>30</td>\n",
              "      <td>4000.000</td>\n",
              "      <td>Apparel</td>\n",
              "      <td>Fashion</td>\n",
              "    </tr>\n",
              "    <tr>\n",
              "      <th>1113925398</th>\n",
              "      <td>Inspiring girls &amp; young women. Join me as I cr...</td>\n",
              "      <td>AU</td>\n",
              "      <td>womens-gold-medalists-rio-2016</td>\n",
              "      <td>True</td>\n",
              "      <td>1</td>\n",
              "      <td>31</td>\n",
              "      <td>37339.208</td>\n",
              "      <td>Graphic Design</td>\n",
              "      <td>Design</td>\n",
              "    </tr>\n",
              "  </tbody>\n",
              "</table>\n",
              "</div>"
            ],
            "text/plain": [
              "                                                        blurb  ... main_category_name\n",
              "id                                                             ...                   \n",
              "1124922936  Bringing deliciously fresh snacking to every g...  ...               Food\n",
              "1479488174  Warm hands and full access to your camera dial...  ...         Technology\n",
              "2077771673  Enamel pins dedicated to my Grandpa and his di...  ...            Fashion\n",
              "2008689997  To Rise In Challenge is a brand, lifestyle, me...  ...            Fashion\n",
              "1113925398  Inspiring girls & young women. Join me as I cr...  ...             Design\n",
              "\n",
              "[5 rows x 9 columns]"
            ]
          },
          "metadata": {},
          "execution_count": 19
        }
      ]
    },
    {
      "cell_type": "markdown",
      "metadata": {
        "id": "JtyBxDDJW8Ho"
      },
      "source": [
        "# Model w/out NLP"
      ]
    },
    {
      "cell_type": "code",
      "metadata": {
        "id": "BwZuJ8jcSPfK"
      },
      "source": [
        "#split\n",
        "target='state'\n",
        "X = df.drop(columns=['state','blurb','slug'])\n",
        "y = df[target]\n",
        "\n",
        "# Train-val split\n",
        "X_train, X_val, y_train, y_val = train_test_split(X, y, test_size=0.2, random_state=42)"
      ],
      "execution_count": 32,
      "outputs": []
    },
    {
      "cell_type": "code",
      "metadata": {
        "colab": {
          "base_uri": "https://localhost:8080/",
          "height": 450
        },
        "id": "6ktSPAfypYWO",
        "outputId": "325708c7-8a2e-4b62-e0ec-cfda8da23043"
      },
      "source": [
        "X_train"
      ],
      "execution_count": 33,
      "outputs": [
        {
          "output_type": "execute_result",
          "data": {
            "text/html": [
              "<div>\n",
              "<style scoped>\n",
              "    .dataframe tbody tr th:only-of-type {\n",
              "        vertical-align: middle;\n",
              "    }\n",
              "\n",
              "    .dataframe tbody tr th {\n",
              "        vertical-align: top;\n",
              "    }\n",
              "\n",
              "    .dataframe thead th {\n",
              "        text-align: right;\n",
              "    }\n",
              "</style>\n",
              "<table border=\"1\" class=\"dataframe\">\n",
              "  <thead>\n",
              "    <tr style=\"text-align: right;\">\n",
              "      <th></th>\n",
              "      <th>country</th>\n",
              "      <th>staff_pick</th>\n",
              "      <th>campaignPeriod</th>\n",
              "      <th>goalUsd</th>\n",
              "      <th>sub_category_name</th>\n",
              "      <th>main_category_name</th>\n",
              "    </tr>\n",
              "    <tr>\n",
              "      <th>id</th>\n",
              "      <th></th>\n",
              "      <th></th>\n",
              "      <th></th>\n",
              "      <th></th>\n",
              "      <th></th>\n",
              "      <th></th>\n",
              "    </tr>\n",
              "  </thead>\n",
              "  <tbody>\n",
              "    <tr>\n",
              "      <th>1426271253</th>\n",
              "      <td>US</td>\n",
              "      <td>False</td>\n",
              "      <td>31</td>\n",
              "      <td>12000.00000</td>\n",
              "      <td>Academic</td>\n",
              "      <td>Publishing</td>\n",
              "    </tr>\n",
              "    <tr>\n",
              "      <th>1916673728</th>\n",
              "      <td>NL</td>\n",
              "      <td>False</td>\n",
              "      <td>30</td>\n",
              "      <td>10886.10144</td>\n",
              "      <td>Thrillers</td>\n",
              "      <td>Film &amp; Video</td>\n",
              "    </tr>\n",
              "    <tr>\n",
              "      <th>1466235077</th>\n",
              "      <td>GB</td>\n",
              "      <td>False</td>\n",
              "      <td>30</td>\n",
              "      <td>10656.63330</td>\n",
              "      <td>Painting</td>\n",
              "      <td>Art</td>\n",
              "    </tr>\n",
              "    <tr>\n",
              "      <th>673605526</th>\n",
              "      <td>US</td>\n",
              "      <td>False</td>\n",
              "      <td>21</td>\n",
              "      <td>2500.00000</td>\n",
              "      <td>Playing Cards</td>\n",
              "      <td>Games</td>\n",
              "    </tr>\n",
              "    <tr>\n",
              "      <th>204206263</th>\n",
              "      <td>US</td>\n",
              "      <td>False</td>\n",
              "      <td>30</td>\n",
              "      <td>5000.00000</td>\n",
              "      <td>Digital Art</td>\n",
              "      <td>Art</td>\n",
              "    </tr>\n",
              "    <tr>\n",
              "      <th>...</th>\n",
              "      <td>...</td>\n",
              "      <td>...</td>\n",
              "      <td>...</td>\n",
              "      <td>...</td>\n",
              "      <td>...</td>\n",
              "      <td>...</td>\n",
              "    </tr>\n",
              "    <tr>\n",
              "      <th>1239135693</th>\n",
              "      <td>SE</td>\n",
              "      <td>False</td>\n",
              "      <td>25</td>\n",
              "      <td>4720.96660</td>\n",
              "      <td>Woodworking</td>\n",
              "      <td>Crafts</td>\n",
              "    </tr>\n",
              "    <tr>\n",
              "      <th>2073822445</th>\n",
              "      <td>US</td>\n",
              "      <td>False</td>\n",
              "      <td>34</td>\n",
              "      <td>4000.00000</td>\n",
              "      <td>Sculpture</td>\n",
              "      <td>Art</td>\n",
              "    </tr>\n",
              "    <tr>\n",
              "      <th>1105606904</th>\n",
              "      <td>US</td>\n",
              "      <td>False</td>\n",
              "      <td>30</td>\n",
              "      <td>20000.00000</td>\n",
              "      <td>Sound</td>\n",
              "      <td>Technology</td>\n",
              "    </tr>\n",
              "    <tr>\n",
              "      <th>1609579327</th>\n",
              "      <td>GB</td>\n",
              "      <td>True</td>\n",
              "      <td>30</td>\n",
              "      <td>31784.98100</td>\n",
              "      <td>Film &amp; Video</td>\n",
              "      <td>NaN</td>\n",
              "    </tr>\n",
              "    <tr>\n",
              "      <th>734432953</th>\n",
              "      <td>US</td>\n",
              "      <td>False</td>\n",
              "      <td>13</td>\n",
              "      <td>2222.00000</td>\n",
              "      <td>Software</td>\n",
              "      <td>Technology</td>\n",
              "    </tr>\n",
              "  </tbody>\n",
              "</table>\n",
              "<p>144543 rows × 6 columns</p>\n",
              "</div>"
            ],
            "text/plain": [
              "           country  staff_pick  ...  sub_category_name  main_category_name\n",
              "id                              ...                                       \n",
              "1426271253      US       False  ...           Academic          Publishing\n",
              "1916673728      NL       False  ...          Thrillers        Film & Video\n",
              "1466235077      GB       False  ...           Painting                 Art\n",
              "673605526       US       False  ...      Playing Cards               Games\n",
              "204206263       US       False  ...        Digital Art                 Art\n",
              "...            ...         ...  ...                ...                 ...\n",
              "1239135693      SE       False  ...        Woodworking              Crafts\n",
              "2073822445      US       False  ...          Sculpture                 Art\n",
              "1105606904      US       False  ...              Sound          Technology\n",
              "1609579327      GB        True  ...       Film & Video                 NaN\n",
              "734432953       US       False  ...           Software          Technology\n",
              "\n",
              "[144543 rows x 6 columns]"
            ]
          },
          "metadata": {},
          "execution_count": 33
        }
      ]
    },
    {
      "cell_type": "code",
      "metadata": {
        "colab": {
          "base_uri": "https://localhost:8080/"
        },
        "id": "VEf-y2HpbYe3",
        "outputId": "19d236e0-9823-4402-8a33-f2ccd1487da8"
      },
      "source": [
        "print('Baseline Accuracy:', y_train.value_counts(normalize=True).max() )"
      ],
      "execution_count": 21,
      "outputs": [
        {
          "output_type": "stream",
          "name": "stdout",
          "text": [
            "Baseline Accuracy: 0.5817369225766726\n"
          ]
        }
      ]
    },
    {
      "cell_type": "markdown",
      "metadata": {
        "id": "0T4t7Jj5wJx4"
      },
      "source": [
        "## random forest"
      ]
    },
    {
      "cell_type": "code",
      "metadata": {
        "id": "1vU9WERLbnq0"
      },
      "source": [
        "#model with default hyper-parameters\n",
        "model = make_pipeline(\n",
        "    OrdinalEncoder(),\n",
        "    SimpleImputer(strategy = 'mean'),\n",
        "    RandomForestClassifier(n_estimators=25,\n",
        "                           n_jobs=-1,\n",
        "                           random_state=42)\n",
        ")\n",
        "\n",
        "model.fit(X_train, y_train);"
      ],
      "execution_count": 22,
      "outputs": []
    },
    {
      "cell_type": "code",
      "metadata": {
        "colab": {
          "base_uri": "https://localhost:8080/"
        },
        "id": "I_g0pNFkbvQU",
        "outputId": "3556b45e-aaa3-47a8-e475-090295f01eae"
      },
      "source": [
        "print('Training Accuracy:', model.score(X_train, y_train) )\n",
        "print('Validation Accuracy:', model.score(X_val, y_val) )"
      ],
      "execution_count": 23,
      "outputs": [
        {
          "output_type": "stream",
          "name": "stdout",
          "text": [
            "Training Accuracy: 0.9409587458403381\n",
            "Validation Accuracy: 0.7800531326101394\n"
          ]
        }
      ]
    },
    {
      "cell_type": "code",
      "metadata": {
        "colab": {
          "base_uri": "https://localhost:8080/"
        },
        "id": "lHUoS3nsieWm",
        "outputId": "5cef26e6-2f34-47de-a2bd-8b5af6e3562b"
      },
      "source": [
        "#random forest hyper-parameter tuning\n",
        "\n",
        "clf = make_pipeline(OrdinalEncoder(),\n",
        "                   SimpleImputer(),\n",
        "                   RandomForestClassifier(random_state=42, n_jobs = -1))\n",
        "\n",
        "param_grid = {'simpleimputer__strategy':['median','mean'], # 2 possible values\n",
        "             'randomforestclassifier__max_depth':range(5,35,5), # 6 possible values\n",
        "             'randomforestclassifier__n_estimators':range(25,100,25), # 3 possible values\n",
        "              'randomforestclassifier__max_samples':np.arange(0.2, 1, 0.2)} # 4 possible values\n",
        "\n",
        "model_rfrs = RandomizedSearchCV(clf,\n",
        "                         param_distributions = param_grid,\n",
        "                         n_iter = 25,\n",
        "                         n_jobs=-1,\n",
        "                         cv = 5,\n",
        "                         verbose = 10)\n",
        "\n",
        "model_rfrs.fit(X_train, y_train)"
      ],
      "execution_count": 34,
      "outputs": [
        {
          "output_type": "stream",
          "name": "stdout",
          "text": [
            "Fitting 5 folds for each of 25 candidates, totalling 125 fits\n"
          ]
        },
        {
          "output_type": "stream",
          "name": "stderr",
          "text": [
            "[Parallel(n_jobs=-1)]: Using backend LokyBackend with 4 concurrent workers.\n",
            "[Parallel(n_jobs=-1)]: Done   5 tasks      | elapsed:   13.2s\n",
            "[Parallel(n_jobs=-1)]: Done  10 tasks      | elapsed:   17.1s\n",
            "[Parallel(n_jobs=-1)]: Done  17 tasks      | elapsed:   22.7s\n",
            "[Parallel(n_jobs=-1)]: Done  24 tasks      | elapsed:   33.9s\n",
            "[Parallel(n_jobs=-1)]: Done  33 tasks      | elapsed:   42.1s\n",
            "[Parallel(n_jobs=-1)]: Done  42 tasks      | elapsed:   50.3s\n",
            "[Parallel(n_jobs=-1)]: Done  53 tasks      | elapsed:   56.9s\n",
            "[Parallel(n_jobs=-1)]: Done  64 tasks      | elapsed:  1.2min\n",
            "[Parallel(n_jobs=-1)]: Done  77 tasks      | elapsed:  1.5min\n",
            "[Parallel(n_jobs=-1)]: Done  90 tasks      | elapsed:  1.7min\n",
            "[Parallel(n_jobs=-1)]: Done 105 tasks      | elapsed:  1.9min\n",
            "[Parallel(n_jobs=-1)]: Done 125 out of 125 | elapsed:  2.1min finished\n"
          ]
        },
        {
          "output_type": "execute_result",
          "data": {
            "text/plain": [
              "RandomizedSearchCV(cv=5, error_score=nan,\n",
              "                   estimator=Pipeline(memory=None,\n",
              "                                      steps=[('ordinalencoder',\n",
              "                                              OrdinalEncoder(cols=None,\n",
              "                                                             drop_invariant=False,\n",
              "                                                             handle_missing='value',\n",
              "                                                             handle_unknown='value',\n",
              "                                                             mapping=None,\n",
              "                                                             return_df=True,\n",
              "                                                             verbose=0)),\n",
              "                                             ('simpleimputer',\n",
              "                                              SimpleImputer(add_indicator=False,\n",
              "                                                            copy=True,\n",
              "                                                            fill_value=None,\n",
              "                                                            missing_values=nan,\n",
              "                                                            strategy='mean',\n",
              "                                                            verbose=0)...\n",
              "                   iid='deprecated', n_iter=25, n_jobs=-1,\n",
              "                   param_distributions={'randomforestclassifier__max_depth': range(5, 35, 5),\n",
              "                                        'randomforestclassifier__max_samples': array([0.2, 0.4, 0.6, 0.8]),\n",
              "                                        'randomforestclassifier__n_estimators': range(25, 100, 25),\n",
              "                                        'simpleimputer__strategy': ['median',\n",
              "                                                                    'mean']},\n",
              "                   pre_dispatch='2*n_jobs', random_state=None, refit=True,\n",
              "                   return_train_score=False, scoring=None, verbose=10)"
            ]
          },
          "metadata": {},
          "execution_count": 34
        }
      ]
    },
    {
      "cell_type": "code",
      "metadata": {
        "colab": {
          "base_uri": "https://localhost:8080/"
        },
        "id": "qb6f4ghMjd8f",
        "outputId": "2202141e-1b99-423f-8b23-6d1b16aaadaa"
      },
      "source": [
        "print('Training Accuracy:', model_rfrs.score(X_train, y_train) )\n",
        "print('Validation Accuracy:', model_rfrs.score(X_val, y_val) )"
      ],
      "execution_count": 35,
      "outputs": [
        {
          "output_type": "stream",
          "name": "stdout",
          "text": [
            "Training Accuracy: 0.8687795327342036\n",
            "Validation Accuracy: 0.7965740535753819\n"
          ]
        }
      ]
    },
    {
      "cell_type": "code",
      "metadata": {
        "id": "5YmwgQpErucl"
      },
      "source": [
        "#save model_rfrs \n",
        "MODEL_FILEPATH = '/content/drive/My Drive/kickStarter/models/rfrs'\n",
        "pickle.dump(model_rfrs, open(MODEL_FILEPATH, 'wb'))"
      ],
      "execution_count": 36,
      "outputs": []
    },
    {
      "cell_type": "markdown",
      "metadata": {
        "id": "9j0ZyNhXwOb6"
      },
      "source": [
        "## XGB"
      ]
    },
    {
      "cell_type": "code",
      "metadata": {
        "colab": {
          "base_uri": "https://localhost:8080/"
        },
        "id": "WErM98h7m8Yi",
        "outputId": "6d35aeab-fe3f-4bca-d63e-8d8a069de5aa"
      },
      "source": [
        "#XGB hyper-parameter tuning\n",
        "from xgboost import XGBClassifier\n",
        "\n",
        "clf = make_pipeline(OrdinalEncoder(),\n",
        "                   SimpleImputer(),\n",
        "                   XGBClassifier(random_state=42, n_jobs = -1))\n",
        "\n",
        "param_grid = {'simpleimputer__strategy':['median','mean'],\n",
        "             'xgbclassifier__max_depth':range(5,35,5), \n",
        "             'xgbclassifier__n_estimators':range(25,100,25),\n",
        "             'xgbclassifier__learning_rate':[0.01, 0.1, 0.2, 0.4, 1]\n",
        "              } \n",
        "\n",
        "model_xgbrs = RandomizedSearchCV(clf, \n",
        "                               param_distributions = param_grid,\n",
        "                               n_iter = 25,\n",
        "                               cv = 5,\n",
        "                               n_jobs = -1,\n",
        "                               verbose = 10)\n",
        "model_xgbrs.fit(X_train,y_train)"
      ],
      "execution_count": null,
      "outputs": [
        {
          "output_type": "stream",
          "name": "stdout",
          "text": [
            "Fitting 5 folds for each of 25 candidates, totalling 125 fits\n"
          ]
        },
        {
          "output_type": "stream",
          "name": "stderr",
          "text": [
            "[Parallel(n_jobs=-1)]: Using backend LokyBackend with 2 concurrent workers.\n",
            "[Parallel(n_jobs=-1)]: Done   1 tasks      | elapsed:   24.8s\n",
            "[Parallel(n_jobs=-1)]: Done   4 tasks      | elapsed:   49.0s\n",
            "[Parallel(n_jobs=-1)]: Done   9 tasks      | elapsed:  1.7min\n",
            "[Parallel(n_jobs=-1)]: Done  14 tasks      | elapsed:  3.5min\n",
            "[Parallel(n_jobs=-1)]: Done  21 tasks      | elapsed:  5.1min\n",
            "[Parallel(n_jobs=-1)]: Done  28 tasks      | elapsed:  5.7min\n",
            "[Parallel(n_jobs=-1)]: Done  37 tasks      | elapsed:  7.9min\n",
            "[Parallel(n_jobs=-1)]: Done  46 tasks      | elapsed:  9.2min\n",
            "[Parallel(n_jobs=-1)]: Done  57 tasks      | elapsed: 10.7min\n",
            "[Parallel(n_jobs=-1)]: Done  68 tasks      | elapsed: 13.0min\n",
            "[Parallel(n_jobs=-1)]: Done  81 tasks      | elapsed: 14.6min\n",
            "[Parallel(n_jobs=-1)]: Done  94 tasks      | elapsed: 18.3min\n",
            "[Parallel(n_jobs=-1)]: Done 109 tasks      | elapsed: 20.3min\n",
            "[Parallel(n_jobs=-1)]: Done 125 out of 125 | elapsed: 22.9min finished\n"
          ]
        },
        {
          "output_type": "execute_result",
          "data": {
            "text/plain": [
              "RandomizedSearchCV(cv=5, error_score=nan,\n",
              "                   estimator=Pipeline(memory=None,\n",
              "                                      steps=[('ordinalencoder',\n",
              "                                              OrdinalEncoder(cols=None,\n",
              "                                                             drop_invariant=False,\n",
              "                                                             handle_missing='value',\n",
              "                                                             handle_unknown='value',\n",
              "                                                             mapping=None,\n",
              "                                                             return_df=True,\n",
              "                                                             verbose=0)),\n",
              "                                             ('simpleimputer',\n",
              "                                              SimpleImputer(add_indicator=False,\n",
              "                                                            copy=True,\n",
              "                                                            fill_value=None,\n",
              "                                                            missing_values=nan,\n",
              "                                                            strategy='mean',\n",
              "                                                            verbose=0)...\n",
              "                                      verbose=False),\n",
              "                   iid='deprecated', n_iter=25, n_jobs=-1,\n",
              "                   param_distributions={'simpleimputer__strategy': ['median',\n",
              "                                                                    'mean'],\n",
              "                                        'xgbclassifier__learning_rate': [0.01,\n",
              "                                                                         0.1,\n",
              "                                                                         0.2,\n",
              "                                                                         0.4,\n",
              "                                                                         1],\n",
              "                                        'xgbclassifier__max_depth': range(5, 35, 5),\n",
              "                                        'xgbclassifier__n_estimators': range(25, 100, 25)},\n",
              "                   pre_dispatch='2*n_jobs', random_state=None, refit=True,\n",
              "                   return_train_score=False, scoring=None, verbose=10)"
            ]
          },
          "metadata": {},
          "execution_count": 62
        }
      ]
    },
    {
      "cell_type": "code",
      "metadata": {
        "id": "FZXYxk3UtdAN"
      },
      "source": [
        "print('Training Accuracy:', model_xgbrs.score(X_train, y_train) )\n",
        "print('Validation Accuracy:', model_xgbrs.score(X_val, y_val) )"
      ],
      "execution_count": null,
      "outputs": []
    },
    {
      "cell_type": "markdown",
      "metadata": {
        "id": "Ix46njZzwV1y"
      },
      "source": [
        "## visuals & ROC curve"
      ]
    },
    {
      "cell_type": "code",
      "metadata": {
        "id": "ZybTdMWYAA02",
        "colab": {
          "base_uri": "https://localhost:8080/",
          "height": 265
        },
        "outputId": "8f4d37ea-61a8-4323-c712-b43b7933bb38"
      },
      "source": [
        "#rank features by importance\n",
        "best_estimator = model_rfrs.best_estimator_\n",
        "importances = best_estimator.named_steps['randomforestclassifier'].feature_importances_\n",
        "features = X_train.columns\n",
        "pd.Series(importances,index=features).sort_values().tail(10).plot(kind='barh');"
      ],
      "execution_count": 37,
      "outputs": [
        {
          "output_type": "display_data",
          "data": {
            "image/png": "[encoded data removed]",
            "text/plain": [
              "<Figure size 432x288 with 1 Axes>"
            ]
          },
          "metadata": {
            "needs_background": "light"
          }
        }
      ]
    },
    {
      "cell_type": "code",
      "metadata": {
        "colab": {
          "base_uri": "https://localhost:8080/"
        },
        "id": "rKroE8RAvlyR",
        "outputId": "69870915-003b-434c-9fa6-8c598f4eb34c"
      },
      "source": [
        "model_rfrs.classes_"
      ],
      "execution_count": 38,
      "outputs": [
        {
          "output_type": "execute_result",
          "data": {
            "text/plain": [
              "array([0, 1])"
            ]
          },
          "metadata": {},
          "execution_count": 38
        }
      ]
    },
    {
      "cell_type": "code",
      "metadata": {
        "colab": {
          "base_uri": "https://localhost:8080/",
          "height": 279
        },
        "id": "wu6Svjl7swqq",
        "outputId": "103115bb-a6cb-46a2-90ea-99e8d33c7676"
      },
      "source": [
        "#plot confusion matrix\n",
        "plot_confusion_matrix(model_rfrs, X_val,y_val, values_format = '.0f', display_labels=['failed', 'successful'],cmap=plt.cm.Blues);"
      ],
      "execution_count": 39,
      "outputs": [
        {
          "output_type": "display_data",
          "data": {
            "image/png": "[encoded data removed]",
            "text/plain": [
              "<Figure size 432x288 with 2 Axes>"
            ]
          },
          "metadata": {
            "needs_background": "light"
          }
        }
      ]
    },
    {
      "cell_type": "code",
      "metadata": {
        "colab": {
          "base_uri": "https://localhost:8080/"
        },
        "id": "q8H2Cm63s1hC",
        "outputId": "25e51bf5-9590-4fbc-cdfc-c84d711869cf"
      },
      "source": [
        "#classification report\n",
        "print(classification_report(y_val, model_rfrs.predict(X_val), target_names=['failed', 'successful']))"
      ],
      "execution_count": null,
      "outputs": [
        {
          "output_type": "stream",
          "name": "stdout",
          "text": [
            "              precision    recall  f1-score   support\n",
            "\n",
            "      failed       0.83      0.85      0.84     15124\n",
            "  successful       0.89      0.88      0.88     21012\n",
            "\n",
            "    accuracy                           0.86     36136\n",
            "   macro avg       0.86      0.86      0.86     36136\n",
            "weighted avg       0.87      0.86      0.86     36136\n",
            "\n"
          ]
        }
      ]
    },
    {
      "cell_type": "code",
      "metadata": {
        "id": "qQartLH9CB0T"
      },
      "source": [
        "#address imbalanced class issue by using ROC curve\n",
        "\n",
        "# Get predicted probabilities from model\n",
        "y_pred_prob = model_rfrs.predict_proba(X_val)[:,-1]\n",
        "\n",
        "# Input true labels and probability predictions\n",
        "fpr, tpr, thresholds = roc_curve(y_val, y_pred_prob)\n",
        "\n",
        "# Put data into dictionary and then dataframe\n",
        "data = {'false_pos_rate': fpr,\n",
        "        'true_pos_rate': tpr, \n",
        "        'thresholds': thresholds}\n",
        "\n",
        "results = pd.DataFrame(data)\n"
      ],
      "execution_count": null,
      "outputs": []
    },
    {
      "cell_type": "code",
      "metadata": {
        "colab": {
          "base_uri": "https://localhost:8080/",
          "height": 367
        },
        "id": "JQHzvLK3BqDF",
        "outputId": "6cad709f-87d1-443f-ebbc-474da5b220b7"
      },
      "source": [
        "#visual of TPR and FPR\n",
        "sns.lineplot(results['thresholds'], results['true_pos_rate'], ci = None)\n",
        "sns.lineplot(results['thresholds'], results['false_pos_rate'], ci = None)\n",
        "plt.legend([\"TPR\", 'FPR'])\n",
        "plt.xlim(0, 1)\n",
        "plt.show();"
      ],
      "execution_count": null,
      "outputs": [
        {
          "output_type": "stream",
          "name": "stderr",
          "text": [
            "/usr/local/lib/python3.7/dist-packages/seaborn/_decorators.py:43: FutureWarning: Pass the following variables as keyword args: x, y. From version 0.12, the only valid positional argument will be `data`, and passing other arguments without an explicit keyword will result in an error or misinterpretation.\n",
            "  FutureWarning\n",
            "/usr/local/lib/python3.7/dist-packages/seaborn/_decorators.py:43: FutureWarning: Pass the following variables as keyword args: x, y. From version 0.12, the only valid positional argument will be `data`, and passing other arguments without an explicit keyword will result in an error or misinterpretation.\n",
            "  FutureWarning\n"
          ]
        },
        {
          "output_type": "display_data",
          "data": {
            "image/png": "[encoded data removed]",
            "text/plain": [
              "<Figure size 432x288 with 1 Axes>"
            ]
          },
          "metadata": {
            "needs_background": "light"
          }
        }
      ]
    },
    {
      "cell_type": "code",
      "metadata": {
        "id": "YD9n4FeA_87S"
      },
      "source": [
        "#calculate the g-mean metric for each threshold\n",
        "results['Gmean'] = np.sqrt(results['true_pos_rate'] * (1-results['false_pos_rate']))\n",
        "#max g-mean value is the optimal threshold\n",
        "results.sort_values(by='Gmean',ascending=False).head(1)"
      ],
      "execution_count": null,
      "outputs": []
    },
    {
      "cell_type": "code",
      "metadata": {
        "colab": {
          "base_uri": "https://localhost:8080/"
        },
        "id": "P5b17E922hXV",
        "outputId": "1d9311f4-caae-4bb1-b933-b4dec9e4f7b0"
      },
      "source": [
        "#calculate accuracy with new threshold\n",
        "y_pred_prob[y_pred_prob>= 0.867155] = 1\n",
        "y_pred_prob[y_pred_prob < 0.867155] = 0\n",
        "accuracy_score(y_val, y_pred_prob)"
      ],
      "execution_count": null,
      "outputs": [
        {
          "output_type": "execute_result",
          "data": {
            "text/plain": [
              "0.8437569183086119"
            ]
          },
          "metadata": {},
          "execution_count": 38
        }
      ]
    },
    {
      "cell_type": "markdown",
      "metadata": {
        "id": "0iqeNVyvKNw1"
      },
      "source": [
        "# Model with NLP"
      ]
    },
    {
      "cell_type": "code",
      "metadata": {
        "id": "8g9cE_iJKRl4"
      },
      "source": [
        "import nltk\n",
        "import re\n",
        "import spacy\n",
        "import en_core_web_sm\n",
        "import string as str"
      ],
      "execution_count": null,
      "outputs": []
    },
    {
      "cell_type": "code",
      "metadata": {
        "id": "Oe4ZjwrSL4Tf"
      },
      "source": [
        "#download all nltk modules\n",
        "nltk.download()"
      ],
      "execution_count": null,
      "outputs": []
    },
    {
      "cell_type": "code",
      "metadata": {
        "id": "ZKagZpXBKU1O"
      },
      "source": [
        "nlp = en_core_web_sm.load()\n"
      ],
      "execution_count": null,
      "outputs": []
    },
    {
      "cell_type": "code",
      "metadata": {
        "id": "d2vNP29aPWjy"
      },
      "source": [
        "stopwords = nltk.corpus.stopwords.words('english')\n",
        "\n",
        "def clean_text(text):\n",
        "    text = \"\".join([word.lower() for word in text if word not in str.punctuation])\n",
        "    tokens = re.split('\\W+', text)\n",
        "    text = [word for word in tokens if word not in stopwords]\n",
        "    text = np.str_(text)\n",
        "    return text"
      ],
      "execution_count": null,
      "outputs": []
    },
    {
      "cell_type": "code",
      "metadata": {
        "id": "tlXehD6pKkSx"
      },
      "source": [
        "blurb_features = df['blurb'].apply(lambda x: nlp(x).vector)\n",
        "blurb_features.shape\n"
      ],
      "execution_count": null,
      "outputs": []
    }
  ]
}