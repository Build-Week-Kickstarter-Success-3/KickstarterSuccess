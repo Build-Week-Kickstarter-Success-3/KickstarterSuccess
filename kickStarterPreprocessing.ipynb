{
  "nbformat": 4,
  "nbformat_minor": 0,
  "metadata": {
    "colab": {
      "name": "kickStarterPreprocessing.ipynb",
      "provenance": [],
      "collapsed_sections": []
    },
    "kernelspec": {
      "name": "python3",
      "display_name": "Python 3"
    },
    "language_info": {
      "name": "python"
    }
  },
  "cells": [
    {
      "cell_type": "code",
      "metadata": {
        "id": "uVlxvy507GDu"
      },
      "source": [
        "import pandas as pd\n",
        "import os\n",
        "import json\n",
        "import string as str"
      ],
      "execution_count": 6,
      "outputs": []
    },
    {
      "cell_type": "code",
      "metadata": {
        "colab": {
          "base_uri": "https://localhost:8080/"
        },
        "id": "p487HaJvK4rk",
        "outputId": "3dc37169-e22d-4740-cf34-9d4432761671"
      },
      "source": [
        "#mount Google driver if needed\n",
        "from google.colab import drive\n",
        "drive.mount('/content/drive/')"
      ],
      "execution_count": 4,
      "outputs": [
        {
          "output_type": "stream",
          "name": "stdout",
          "text": [
            "Mounted at /content/drive/\n"
          ]
        }
      ]
    },
    {
      "cell_type": "code",
      "metadata": {
        "id": "OPCEHE8k7QuF"
      },
      "source": [
        "# datasets from 2020 <https://webrobots.io/kickstarter-datasets/>\n",
        "FILE_PATH_DEC = 'https://s3.amazonaws.com/weruns/forfun/Kickstarter/Kickstarter_2020-12-17T03_20_12_051Z.zip'\n"
      ],
      "execution_count": 5,
      "outputs": []
    },
    {
      "cell_type": "markdown",
      "metadata": {
        "id": "1Ku8dpURxfdV"
      },
      "source": [
        "## functions"
      ]
    },
    {
      "cell_type": "code",
      "metadata": {
        "id": "odRoP0rC828D"
      },
      "source": [
        "def unzipFile(downloadLink, fileName):\n",
        "  \n",
        "  newDir = '/content/{}'.format(fileName) \n",
        "  %cd\n",
        "  %mkdir {newDir}\n",
        "  %cd {newDir}\n",
        "  print('\\n')\n",
        "  print('created new directory: {}'.format(newDir))\n",
        "  print('\\n')\n",
        "  !wget -O {fileName} {downloadLink}\n",
        "  !unzip -q {fileName}\n",
        "  fileCount = !find . -name 'Kickstarter0*.csv' | wc -l\n",
        "  fileCount = int(fileCount[0])\n",
        "  print('\\n')\n",
        "  print('number of files unziped from {}: {}'.format(fileName, fileCount))\n",
        "\n",
        "  return fileCount\n"
      ],
      "execution_count": 11,
      "outputs": []
    },
    {
      "cell_type": "code",
      "metadata": {
        "id": "zK64amYF9BoZ"
      },
      "source": [
        "# assume pwd is fileName directory\n",
        "def appendMonthlyData(fileCount):\n",
        "\n",
        "  data = pd.read_csv('Kickstarter.csv')\n",
        "  for x in range(fileCount):\n",
        "    df = pd.read_csv('Kickstarter0{0:0=2d}.csv'.format(x+1))\n",
        "    data = data.append(df)\n",
        "    #print('added Kickstarter0{0:0=2d}.csv; new df shape:'.format(x+1), data.shape)\n",
        "  print('final dataframe size: {}'.format(data.shape))\n",
        "  \n",
        "  return data\n"
      ],
      "execution_count": 12,
      "outputs": []
    },
    {
      "cell_type": "code",
      "metadata": {
        "id": "wgSKV-HTZ-ja"
      },
      "source": [
        "def wrangle(df):\n",
        "  \n",
        "  #drop duplicated rows based on 'id' column; only keep first occurence\n",
        "  df.drop_duplicates(subset=['id'],inplace=True)\n",
        "\n",
        "  #fix index column\n",
        "  df.drop('Unnamed: 0',axis=1,inplace=True)\n",
        "  df.set_index('id',inplace=True)\n",
        "\n",
        "  #remove columns with too many null values\n",
        "  df.drop(columns=['friends', 'is_starred', 'permissions'], inplace=True)\n",
        "  \n",
        "  #remove columns with constant values\n",
        "  df.drop(columns=['disable_communication','is_backing'], inplace=True)\n",
        "\n",
        "  #remove columns with redundant information or information that cannot be incoporated into model\n",
        "  df.drop(columns=[\n",
        "                        'created_at',\n",
        "                        'converted_pledged_amount',\n",
        "                        'country_displayable_name',\n",
        "                        'creator',\n",
        "                        'currency',\n",
        "                        'currency_symbol',\n",
        "                        'currency_trailing_code',\n",
        "                        'current_currency',\n",
        "                        'fx_rate',\n",
        "                        'is_starrable',\n",
        "                        'location',\n",
        "                        'name',\n",
        "                        'photo',\n",
        "                        'pledged',\n",
        "                        'profile',\n",
        "                        'source_url',\n",
        "                        'state_changed_at',\n",
        "                        'urls',\n",
        "                        'usd_pledged',\n",
        "                        'usd_type'\n",
        "                        ], inplace=True)\n",
        "  \n",
        "  #remove columns that may have leaky data\n",
        "  df.drop(columns=['backers_count','spotlight'], inplace=True)\n",
        "  \n",
        "  #all date columns from original dataset are in unix format\n",
        "  #this function converts it to DateTime format\n",
        "  def unixToDateTime(colName):\n",
        "    pdDate = pd.to_datetime(df[colName], origin='unix', unit='s').dt.date\n",
        "    dateTime = pd.to_datetime(pdDate,format='%Y-%m-%d')\n",
        "    return dateTime\n",
        "  \n",
        "  df['deadline'] = unixToDateTime('deadline')\n",
        "  df['launched_at'] = unixToDateTime('launched_at')\n",
        "\n",
        "  #engineer new column 'campaignPeriod' and drop used columns\n",
        "  df['campaignPeriod'] = df['deadline']-df['launched_at']\n",
        "  #change 'campaignPeriod' to int type\n",
        "  df['campaignPeriod'] = df['campaignPeriod'].dt.days\n",
        "  df.drop(columns=['deadline','launched_at'],inplace=True)\n",
        "\n",
        "  #engineer new column 'goalUsd' and drop used columns\n",
        "  df['goalUsd'] = df['goal'] * df ['static_usd_rate']\n",
        "  df.drop(columns=['goal','static_usd_rate'],inplace=True)\n",
        "\n",
        "  #engineer new column 'sub_category_name' and 'main_category_name'\n",
        "  #drop column 'category'\n",
        "  def CustomParserSub(data):\n",
        "    j1 = json.loads(data)\n",
        "    return j1.get('name')\n",
        "  df['sub_category_name'] = df['category'].apply(CustomParserSub)\n",
        "  \n",
        "  def CustomParserMain(data):\n",
        "    j1 = json.loads(data)\n",
        "    return j1.get('parent_name')\n",
        "  df['main_category_name'] = df['category'].apply(CustomParserMain)\n",
        "  \n",
        "  df.drop(columns='category',inplace=True)\n",
        "\n",
        "  #drop rows where project 'state' is 'live' or 'canceled'\n",
        "  df = df[(df['state'] == 'successful') | (df['state'] == 'failed')]\n",
        "\n",
        "  #encode target variable\n",
        "  df['state'] = df['state'].apply(lambda x: 1 if x=='successful' else 0)\n",
        "\n",
        "\n",
        "  return df"
      ],
      "execution_count": 13,
      "outputs": []
    },
    {
      "cell_type": "markdown",
      "metadata": {
        "id": "RmbTh-n7xpdS"
      },
      "source": [
        "## load file & wrangle"
      ]
    },
    {
      "cell_type": "code",
      "metadata": {
        "id": "rwCN7ALp9AxA"
      },
      "source": [
        "#download and unzip file\n",
        "fileCount = unzipFile(FILE_PATH_DEC, '2020-12-17')"
      ],
      "execution_count": null,
      "outputs": []
    },
    {
      "cell_type": "code",
      "metadata": {
        "colab": {
          "base_uri": "https://localhost:8080/"
        },
        "id": "mkadseJL9mkD",
        "outputId": "8640b438-9a52-4e10-d888-b39f3ceb2ab6"
      },
      "source": [
        "#append all unzipped files into a single df\n",
        "df = appendMonthlyData(fileCount)"
      ],
      "execution_count": null,
      "outputs": [
        {
          "output_type": "stream",
          "name": "stdout",
          "text": [
            "final dataframe size: (217253, 38)\n"
          ]
        }
      ]
    },
    {
      "cell_type": "code",
      "metadata": {
        "colab": {
          "base_uri": "https://localhost:8080/"
        },
        "id": "ajX6j3PYQs_v",
        "outputId": "c1175a26-235b-476c-c62d-a5dc7d40e7dd"
      },
      "source": [
        "#save df as csv file to Google drive\n",
        "%cd /content/drive/My Drive/kickStarter\n",
        "df.to_csv('rawdf.csv')"
      ],
      "execution_count": null,
      "outputs": [
        {
          "output_type": "stream",
          "name": "stdout",
          "text": [
            "Mounted at /content/drive/\n",
            "/content/drive/My Drive/kickStarter\n"
          ]
        }
      ]
    },
    {
      "cell_type": "code",
      "metadata": {
        "colab": {
          "base_uri": "https://localhost:8080/"
        },
        "id": "WABnAJ1UZM6f",
        "outputId": "f68be059-a9d6-430c-a8ba-f5bc9d718b34"
      },
      "source": [
        "#to RELOAD df...\n",
        "%cd /content/drive/My Drive/kickStarter\n",
        "df = pd.read_csv('rawdf.csv')\n",
        "df.shape"
      ],
      "execution_count": 14,
      "outputs": [
        {
          "output_type": "stream",
          "name": "stdout",
          "text": [
            "/content/drive/My Drive/kickStarter\n"
          ]
        },
        {
          "output_type": "stream",
          "name": "stderr",
          "text": [
            "/usr/local/lib/python3.7/dist-packages/IPython/core/interactiveshell.py:2718: DtypeWarning: Columns (15,19,21,25) have mixed types.Specify dtype option on import or set low_memory=False.\n",
            "  interactivity=interactivity, compiler=compiler, result=result)\n"
          ]
        },
        {
          "output_type": "execute_result",
          "data": {
            "text/plain": [
              "(217253, 39)"
            ]
          },
          "metadata": {},
          "execution_count": 14
        }
      ]
    },
    {
      "cell_type": "code",
      "metadata": {
        "colab": {
          "base_uri": "https://localhost:8080/"
        },
        "id": "rc7Ay5LDUcSH",
        "outputId": "047e621b-c78d-468b-b448-d1e2b34a0ff4"
      },
      "source": [
        "df = wrangle(df)\n",
        "df.info()"
      ],
      "execution_count": 16,
      "outputs": [
        {
          "output_type": "stream",
          "name": "stdout",
          "text": [
            "<class 'pandas.core.frame.DataFrame'>\n",
            "Int64Index: 180679 entries, 1124922936 to 1126079486\n",
            "Data columns (total 9 columns):\n",
            " #   Column              Non-Null Count   Dtype  \n",
            "---  ------              --------------   -----  \n",
            " 0   blurb               180677 non-null  object \n",
            " 1   country             180679 non-null  object \n",
            " 2   slug                180679 non-null  object \n",
            " 3   staff_pick          180679 non-null  bool   \n",
            " 4   state               180679 non-null  int64  \n",
            " 5   campaignPeriod      180679 non-null  int64  \n",
            " 6   goalUsd             180679 non-null  float64\n",
            " 7   sub_category_name   180679 non-null  object \n",
            " 8   main_category_name  174232 non-null  object \n",
            "dtypes: bool(1), float64(1), int64(2), object(5)\n",
            "memory usage: 12.6+ MB\n"
          ]
        },
        {
          "output_type": "stream",
          "name": "stderr",
          "text": [
            "/usr/local/lib/python3.7/dist-packages/ipykernel_launcher.py:81: SettingWithCopyWarning: \n",
            "A value is trying to be set on a copy of a slice from a DataFrame.\n",
            "Try using .loc[row_indexer,col_indexer] = value instead\n",
            "\n",
            "See the caveats in the documentation: https://pandas.pydata.org/pandas-docs/stable/user_guide/indexing.html#returning-a-view-versus-a-copy\n"
          ]
        }
      ]
    },
    {
      "cell_type": "code",
      "metadata": {
        "colab": {
          "base_uri": "https://localhost:8080/",
          "height": 269
        },
        "id": "o81LI_0L6B1Y",
        "outputId": "57d66d59-1e26-47f9-cd7b-a25e02289df2"
      },
      "source": [
        "df.head()"
      ],
      "execution_count": 17,
      "outputs": [
        {
          "output_type": "execute_result",
          "data": {
            "text/html": [
              "<div>\n",
              "<style scoped>\n",
              "    .dataframe tbody tr th:only-of-type {\n",
              "        vertical-align: middle;\n",
              "    }\n",
              "\n",
              "    .dataframe tbody tr th {\n",
              "        vertical-align: top;\n",
              "    }\n",
              "\n",
              "    .dataframe thead th {\n",
              "        text-align: right;\n",
              "    }\n",
              "</style>\n",
              "<table border=\"1\" class=\"dataframe\">\n",
              "  <thead>\n",
              "    <tr style=\"text-align: right;\">\n",
              "      <th></th>\n",
              "      <th>blurb</th>\n",
              "      <th>country</th>\n",
              "      <th>slug</th>\n",
              "      <th>staff_pick</th>\n",
              "      <th>state</th>\n",
              "      <th>campaignPeriod</th>\n",
              "      <th>goalUsd</th>\n",
              "      <th>sub_category_name</th>\n",
              "      <th>main_category_name</th>\n",
              "    </tr>\n",
              "    <tr>\n",
              "      <th>id</th>\n",
              "      <th></th>\n",
              "      <th></th>\n",
              "      <th></th>\n",
              "      <th></th>\n",
              "      <th></th>\n",
              "      <th></th>\n",
              "      <th></th>\n",
              "      <th></th>\n",
              "      <th></th>\n",
              "    </tr>\n",
              "  </thead>\n",
              "  <tbody>\n",
              "    <tr>\n",
              "      <th>1124922936</th>\n",
              "      <td>Bringing deliciously fresh snacking to every g...</td>\n",
              "      <td>US</td>\n",
              "      <td>palmetto-pork-skins</td>\n",
              "      <td>False</td>\n",
              "      <td>0</td>\n",
              "      <td>30</td>\n",
              "      <td>25000.000</td>\n",
              "      <td>Food Trucks</td>\n",
              "      <td>Food</td>\n",
              "    </tr>\n",
              "    <tr>\n",
              "      <th>1479488174</th>\n",
              "      <td>Warm hands and full access to your camera dial...</td>\n",
              "      <td>NO</td>\n",
              "      <td>photography-gloves-extend-your-session-in-style</td>\n",
              "      <td>False</td>\n",
              "      <td>1</td>\n",
              "      <td>32</td>\n",
              "      <td>13905.834</td>\n",
              "      <td>Camera Equipment</td>\n",
              "      <td>Technology</td>\n",
              "    </tr>\n",
              "    <tr>\n",
              "      <th>2077771673</th>\n",
              "      <td>Enamel pins dedicated to my Grandpa and his di...</td>\n",
              "      <td>US</td>\n",
              "      <td>eat-shit-a-memorial-pin-campaign</td>\n",
              "      <td>False</td>\n",
              "      <td>1</td>\n",
              "      <td>31</td>\n",
              "      <td>250.000</td>\n",
              "      <td>Accessories</td>\n",
              "      <td>Fashion</td>\n",
              "    </tr>\n",
              "    <tr>\n",
              "      <th>2008689997</th>\n",
              "      <td>To Rise In Challenge is a brand, lifestyle, me...</td>\n",
              "      <td>US</td>\n",
              "      <td>tric-clothing-co</td>\n",
              "      <td>False</td>\n",
              "      <td>1</td>\n",
              "      <td>30</td>\n",
              "      <td>4000.000</td>\n",
              "      <td>Apparel</td>\n",
              "      <td>Fashion</td>\n",
              "    </tr>\n",
              "    <tr>\n",
              "      <th>1113925398</th>\n",
              "      <td>Inspiring girls &amp; young women. Join me as I cr...</td>\n",
              "      <td>AU</td>\n",
              "      <td>womens-gold-medalists-rio-2016</td>\n",
              "      <td>True</td>\n",
              "      <td>1</td>\n",
              "      <td>31</td>\n",
              "      <td>37339.208</td>\n",
              "      <td>Graphic Design</td>\n",
              "      <td>Design</td>\n",
              "    </tr>\n",
              "  </tbody>\n",
              "</table>\n",
              "</div>"
            ],
            "text/plain": [
              "                                                        blurb  ... main_category_name\n",
              "id                                                             ...                   \n",
              "1124922936  Bringing deliciously fresh snacking to every g...  ...               Food\n",
              "1479488174  Warm hands and full access to your camera dial...  ...         Technology\n",
              "2077771673  Enamel pins dedicated to my Grandpa and his di...  ...            Fashion\n",
              "2008689997  To Rise In Challenge is a brand, lifestyle, me...  ...            Fashion\n",
              "1113925398  Inspiring girls & young women. Join me as I cr...  ...             Design\n",
              "\n",
              "[5 rows x 9 columns]"
            ]
          },
          "metadata": {},
          "execution_count": 17
        }
      ]
    },
    {
      "cell_type": "code",
      "metadata": {
        "colab": {
          "base_uri": "https://localhost:8080/"
        },
        "id": "PvTwDHIqKpRY",
        "outputId": "76d50372-3e35-4258-94c8-8c162d5639e7"
      },
      "source": [
        "%cd /content/drive/My Drive/kickStarter\n",
        "df.to_csv('cleandf.csv')"
      ],
      "execution_count": 18,
      "outputs": [
        {
          "output_type": "stream",
          "name": "stdout",
          "text": [
            "/content/drive/My Drive/kickStarter\n"
          ]
        }
      ]
    },
    {
      "cell_type": "code",
      "metadata": {
        "id": "XrbSPAecnHo_"
      },
      "source": [
        ""
      ],
      "execution_count": null,
      "outputs": []
    }
  ]
}